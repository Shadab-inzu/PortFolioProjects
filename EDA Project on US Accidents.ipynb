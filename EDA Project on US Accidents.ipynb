{
 "cells": [
  {
   "cell_type": "markdown",
   "id": "05b01792",
   "metadata": {},
   "source": [
    "### US Accidents EDA"
   ]
  },
  {
   "cell_type": "code",
   "execution_count": 1,
   "id": "6b8b241e",
   "metadata": {},
   "outputs": [],
   "source": [
    "import pandas as pd\n",
    "import numpy as np \n",
    "\n",
    "df= pd.read_csv(\"D:\\\\DATA\\\\US Accidents\\\\US_Accidents.csv\")\n",
    "\n",
    "### reading the data here \n"
   ]
  },
  {
   "cell_type": "code",
   "execution_count": 2,
   "id": "6912256e",
   "metadata": {},
   "outputs": [
    {
     "data": {
      "text/html": [
       "<div>\n",
       "<style scoped>\n",
       "    .dataframe tbody tr th:only-of-type {\n",
       "        vertical-align: middle;\n",
       "    }\n",
       "\n",
       "    .dataframe tbody tr th {\n",
       "        vertical-align: top;\n",
       "    }\n",
       "\n",
       "    .dataframe thead th {\n",
       "        text-align: right;\n",
       "    }\n",
       "</style>\n",
       "<table border=\"1\" class=\"dataframe\">\n",
       "  <thead>\n",
       "    <tr style=\"text-align: right;\">\n",
       "      <th></th>\n",
       "      <th>ID</th>\n",
       "      <th>Severity</th>\n",
       "      <th>Start_Time</th>\n",
       "      <th>End_Time</th>\n",
       "      <th>Start_Lat</th>\n",
       "      <th>Start_Lng</th>\n",
       "      <th>End_Lat</th>\n",
       "      <th>End_Lng</th>\n",
       "      <th>Distance(mi)</th>\n",
       "      <th>Description</th>\n",
       "      <th>...</th>\n",
       "      <th>Roundabout</th>\n",
       "      <th>Station</th>\n",
       "      <th>Stop</th>\n",
       "      <th>Traffic_Calming</th>\n",
       "      <th>Traffic_Signal</th>\n",
       "      <th>Turning_Loop</th>\n",
       "      <th>Sunrise_Sunset</th>\n",
       "      <th>Civil_Twilight</th>\n",
       "      <th>Nautical_Twilight</th>\n",
       "      <th>Astronomical_Twilight</th>\n",
       "    </tr>\n",
       "  </thead>\n",
       "  <tbody>\n",
       "    <tr>\n",
       "      <th>0</th>\n",
       "      <td>A-1</td>\n",
       "      <td>2</td>\n",
       "      <td>2019-05-21 08:29:55</td>\n",
       "      <td>2019-05-21 09:29:40</td>\n",
       "      <td>34.808868</td>\n",
       "      <td>-82.269157</td>\n",
       "      <td>34.808868</td>\n",
       "      <td>-82.269157</td>\n",
       "      <td>0.0</td>\n",
       "      <td>Accident on Tanner Rd at Pennbrooke Ln.</td>\n",
       "      <td>...</td>\n",
       "      <td>False</td>\n",
       "      <td>False</td>\n",
       "      <td>False</td>\n",
       "      <td>False</td>\n",
       "      <td>False</td>\n",
       "      <td>False</td>\n",
       "      <td>Day</td>\n",
       "      <td>Day</td>\n",
       "      <td>Day</td>\n",
       "      <td>Day</td>\n",
       "    </tr>\n",
       "    <tr>\n",
       "      <th>1</th>\n",
       "      <td>A-2</td>\n",
       "      <td>2</td>\n",
       "      <td>2019-10-07 17:43:09</td>\n",
       "      <td>2019-10-07 19:42:50</td>\n",
       "      <td>35.090080</td>\n",
       "      <td>-80.745560</td>\n",
       "      <td>35.090080</td>\n",
       "      <td>-80.745560</td>\n",
       "      <td>0.0</td>\n",
       "      <td>Accident on Houston Branch Rd at Providence Br...</td>\n",
       "      <td>...</td>\n",
       "      <td>False</td>\n",
       "      <td>False</td>\n",
       "      <td>False</td>\n",
       "      <td>False</td>\n",
       "      <td>False</td>\n",
       "      <td>False</td>\n",
       "      <td>Day</td>\n",
       "      <td>Day</td>\n",
       "      <td>Day</td>\n",
       "      <td>Day</td>\n",
       "    </tr>\n",
       "    <tr>\n",
       "      <th>2</th>\n",
       "      <td>A-3</td>\n",
       "      <td>2</td>\n",
       "      <td>2020-12-13 21:53:00</td>\n",
       "      <td>2020-12-13 22:44:00</td>\n",
       "      <td>37.145730</td>\n",
       "      <td>-121.985052</td>\n",
       "      <td>37.165850</td>\n",
       "      <td>-121.988062</td>\n",
       "      <td>1.4</td>\n",
       "      <td>Stationary traffic on CA-17 from Summit Rd (CA...</td>\n",
       "      <td>...</td>\n",
       "      <td>False</td>\n",
       "      <td>False</td>\n",
       "      <td>False</td>\n",
       "      <td>False</td>\n",
       "      <td>False</td>\n",
       "      <td>False</td>\n",
       "      <td>Night</td>\n",
       "      <td>Night</td>\n",
       "      <td>Night</td>\n",
       "      <td>Night</td>\n",
       "    </tr>\n",
       "    <tr>\n",
       "      <th>3</th>\n",
       "      <td>A-4</td>\n",
       "      <td>2</td>\n",
       "      <td>2018-04-17 16:51:23</td>\n",
       "      <td>2018-04-17 17:50:46</td>\n",
       "      <td>39.110390</td>\n",
       "      <td>-119.773781</td>\n",
       "      <td>39.110390</td>\n",
       "      <td>-119.773781</td>\n",
       "      <td>0.0</td>\n",
       "      <td>Accident on US-395 Southbound at Topsy Ln.</td>\n",
       "      <td>...</td>\n",
       "      <td>False</td>\n",
       "      <td>False</td>\n",
       "      <td>False</td>\n",
       "      <td>False</td>\n",
       "      <td>True</td>\n",
       "      <td>False</td>\n",
       "      <td>Day</td>\n",
       "      <td>Day</td>\n",
       "      <td>Day</td>\n",
       "      <td>Day</td>\n",
       "    </tr>\n",
       "    <tr>\n",
       "      <th>4</th>\n",
       "      <td>A-5</td>\n",
       "      <td>3</td>\n",
       "      <td>2016-08-31 17:40:49</td>\n",
       "      <td>2016-08-31 18:10:49</td>\n",
       "      <td>26.102942</td>\n",
       "      <td>-80.265091</td>\n",
       "      <td>26.102942</td>\n",
       "      <td>-80.265091</td>\n",
       "      <td>0.0</td>\n",
       "      <td>Accident on I-595 Westbound at Exit 4 / Pine I...</td>\n",
       "      <td>...</td>\n",
       "      <td>False</td>\n",
       "      <td>False</td>\n",
       "      <td>False</td>\n",
       "      <td>False</td>\n",
       "      <td>True</td>\n",
       "      <td>False</td>\n",
       "      <td>Day</td>\n",
       "      <td>Day</td>\n",
       "      <td>Day</td>\n",
       "      <td>Day</td>\n",
       "    </tr>\n",
       "  </tbody>\n",
       "</table>\n",
       "<p>5 rows × 47 columns</p>\n",
       "</div>"
      ],
      "text/plain": [
       "    ID  Severity           Start_Time             End_Time  Start_Lat  \\\n",
       "0  A-1         2  2019-05-21 08:29:55  2019-05-21 09:29:40  34.808868   \n",
       "1  A-2         2  2019-10-07 17:43:09  2019-10-07 19:42:50  35.090080   \n",
       "2  A-3         2  2020-12-13 21:53:00  2020-12-13 22:44:00  37.145730   \n",
       "3  A-4         2  2018-04-17 16:51:23  2018-04-17 17:50:46  39.110390   \n",
       "4  A-5         3  2016-08-31 17:40:49  2016-08-31 18:10:49  26.102942   \n",
       "\n",
       "    Start_Lng    End_Lat     End_Lng  Distance(mi)  \\\n",
       "0  -82.269157  34.808868  -82.269157           0.0   \n",
       "1  -80.745560  35.090080  -80.745560           0.0   \n",
       "2 -121.985052  37.165850 -121.988062           1.4   \n",
       "3 -119.773781  39.110390 -119.773781           0.0   \n",
       "4  -80.265091  26.102942  -80.265091           0.0   \n",
       "\n",
       "                                         Description  ...  Roundabout Station  \\\n",
       "0            Accident on Tanner Rd at Pennbrooke Ln.  ...       False   False   \n",
       "1  Accident on Houston Branch Rd at Providence Br...  ...       False   False   \n",
       "2  Stationary traffic on CA-17 from Summit Rd (CA...  ...       False   False   \n",
       "3         Accident on US-395 Southbound at Topsy Ln.  ...       False   False   \n",
       "4  Accident on I-595 Westbound at Exit 4 / Pine I...  ...       False   False   \n",
       "\n",
       "    Stop Traffic_Calming Traffic_Signal Turning_Loop Sunrise_Sunset  \\\n",
       "0  False           False          False        False            Day   \n",
       "1  False           False          False        False            Day   \n",
       "2  False           False          False        False          Night   \n",
       "3  False           False           True        False            Day   \n",
       "4  False           False           True        False            Day   \n",
       "\n",
       "  Civil_Twilight Nautical_Twilight Astronomical_Twilight  \n",
       "0            Day               Day                   Day  \n",
       "1            Day               Day                   Day  \n",
       "2          Night             Night                 Night  \n",
       "3            Day               Day                   Day  \n",
       "4            Day               Day                   Day  \n",
       "\n",
       "[5 rows x 47 columns]"
      ]
     },
     "execution_count": 2,
     "metadata": {},
     "output_type": "execute_result"
    }
   ],
   "source": [
    "df.head()\n",
    "\n",
    "### checking the data , top 5 rows"
   ]
  },
  {
   "cell_type": "code",
   "execution_count": 3,
   "id": "dbf7471e",
   "metadata": {},
   "outputs": [
    {
     "data": {
      "text/plain": [
       "Index(['ID', 'Severity', 'Start_Time', 'End_Time', 'Start_Lat', 'Start_Lng',\n",
       "       'End_Lat', 'End_Lng', 'Distance(mi)', 'Description', 'Number', 'Street',\n",
       "       'Side', 'City', 'County', 'State', 'Zipcode', 'Country', 'Timezone',\n",
       "       'Airport_Code', 'Weather_Timestamp', 'Temperature(F)', 'Wind_Chill(F)',\n",
       "       'Humidity(%)', 'Pressure(in)', 'Visibility(mi)', 'Wind_Direction',\n",
       "       'Wind_Speed(mph)', 'Precipitation(in)', 'Weather_Condition', 'Amenity',\n",
       "       'Bump', 'Crossing', 'Give_Way', 'Junction', 'No_Exit', 'Railway',\n",
       "       'Roundabout', 'Station', 'Stop', 'Traffic_Calming', 'Traffic_Signal',\n",
       "       'Turning_Loop', 'Sunrise_Sunset', 'Civil_Twilight', 'Nautical_Twilight',\n",
       "       'Astronomical_Twilight'],\n",
       "      dtype='object')"
      ]
     },
     "execution_count": 3,
     "metadata": {},
     "output_type": "execute_result"
    }
   ],
   "source": [
    "df.columns\n",
    "### to know the name of all the columns"
   ]
  },
  {
   "cell_type": "code",
   "execution_count": 4,
   "id": "324cfe02",
   "metadata": {},
   "outputs": [
    {
     "name": "stdout",
     "output_type": "stream",
     "text": [
      "<class 'pandas.core.frame.DataFrame'>\n",
      "RangeIndex: 2906610 entries, 0 to 2906609\n",
      "Data columns (total 47 columns):\n",
      " #   Column                 Dtype  \n",
      "---  ------                 -----  \n",
      " 0   ID                     object \n",
      " 1   Severity               int64  \n",
      " 2   Start_Time             object \n",
      " 3   End_Time               object \n",
      " 4   Start_Lat              float64\n",
      " 5   Start_Lng              float64\n",
      " 6   End_Lat                float64\n",
      " 7   End_Lng                float64\n",
      " 8   Distance(mi)           float64\n",
      " 9   Description            object \n",
      " 10  Number                 float64\n",
      " 11  Street                 object \n",
      " 12  Side                   object \n",
      " 13  City                   object \n",
      " 14  County                 object \n",
      " 15  State                  object \n",
      " 16  Zipcode                object \n",
      " 17  Country                object \n",
      " 18  Timezone               object \n",
      " 19  Airport_Code           object \n",
      " 20  Weather_Timestamp      object \n",
      " 21  Temperature(F)         float64\n",
      " 22  Wind_Chill(F)          float64\n",
      " 23  Humidity(%)            float64\n",
      " 24  Pressure(in)           float64\n",
      " 25  Visibility(mi)         float64\n",
      " 26  Wind_Direction         object \n",
      " 27  Wind_Speed(mph)        float64\n",
      " 28  Precipitation(in)      float64\n",
      " 29  Weather_Condition      object \n",
      " 30  Amenity                bool   \n",
      " 31  Bump                   bool   \n",
      " 32  Crossing               bool   \n",
      " 33  Give_Way               bool   \n",
      " 34  Junction               bool   \n",
      " 35  No_Exit                bool   \n",
      " 36  Railway                bool   \n",
      " 37  Roundabout             bool   \n",
      " 38  Station                bool   \n",
      " 39  Stop                   bool   \n",
      " 40  Traffic_Calming        bool   \n",
      " 41  Traffic_Signal         bool   \n",
      " 42  Turning_Loop           bool   \n",
      " 43  Sunrise_Sunset         object \n",
      " 44  Civil_Twilight         object \n",
      " 45  Nautical_Twilight      object \n",
      " 46  Astronomical_Twilight  object \n",
      "dtypes: bool(13), float64(13), int64(1), object(20)\n",
      "memory usage: 790.0+ MB\n"
     ]
    }
   ],
   "source": [
    "df.info()\n",
    "\n",
    "### to know all the information of the data ( how many columns, data type, etc)"
   ]
  },
  {
   "cell_type": "code",
   "execution_count": 5,
   "id": "7c077211",
   "metadata": {},
   "outputs": [
    {
     "data": {
      "text/html": [
       "<div>\n",
       "<style scoped>\n",
       "    .dataframe tbody tr th:only-of-type {\n",
       "        vertical-align: middle;\n",
       "    }\n",
       "\n",
       "    .dataframe tbody tr th {\n",
       "        vertical-align: top;\n",
       "    }\n",
       "\n",
       "    .dataframe thead th {\n",
       "        text-align: right;\n",
       "    }\n",
       "</style>\n",
       "<table border=\"1\" class=\"dataframe\">\n",
       "  <thead>\n",
       "    <tr style=\"text-align: right;\">\n",
       "      <th></th>\n",
       "      <th>Severity</th>\n",
       "      <th>Start_Lat</th>\n",
       "      <th>Start_Lng</th>\n",
       "      <th>End_Lat</th>\n",
       "      <th>End_Lng</th>\n",
       "      <th>Distance(mi)</th>\n",
       "      <th>Number</th>\n",
       "      <th>Temperature(F)</th>\n",
       "      <th>Wind_Chill(F)</th>\n",
       "      <th>Humidity(%)</th>\n",
       "      <th>Pressure(in)</th>\n",
       "      <th>Visibility(mi)</th>\n",
       "      <th>Wind_Speed(mph)</th>\n",
       "      <th>Precipitation(in)</th>\n",
       "    </tr>\n",
       "  </thead>\n",
       "  <tbody>\n",
       "    <tr>\n",
       "      <th>count</th>\n",
       "      <td>2.906610e+06</td>\n",
       "      <td>2.906610e+06</td>\n",
       "      <td>2.906610e+06</td>\n",
       "      <td>2.623789e+06</td>\n",
       "      <td>2.623789e+06</td>\n",
       "      <td>2.906610e+06</td>\n",
       "      <td>1.014938e+06</td>\n",
       "      <td>2.839386e+06</td>\n",
       "      <td>1.722751e+06</td>\n",
       "      <td>2.835340e+06</td>\n",
       "      <td>2.849702e+06</td>\n",
       "      <td>2.834532e+06</td>\n",
       "      <td>2.599447e+06</td>\n",
       "      <td>1.605284e+06</td>\n",
       "    </tr>\n",
       "    <tr>\n",
       "      <th>mean</th>\n",
       "      <td>2.288649e+00</td>\n",
       "      <td>3.653027e+01</td>\n",
       "      <td>-9.642676e+01</td>\n",
       "      <td>3.651733e+01</td>\n",
       "      <td>-9.620367e+01</td>\n",
       "      <td>3.980541e-01</td>\n",
       "      <td>6.789728e+03</td>\n",
       "      <td>6.098873e+01</td>\n",
       "      <td>5.499048e+01</td>\n",
       "      <td>6.537758e+01</td>\n",
       "      <td>2.965685e+01</td>\n",
       "      <td>9.116766e+00</td>\n",
       "      <td>7.818111e+00</td>\n",
       "      <td>1.119459e-02</td>\n",
       "    </tr>\n",
       "    <tr>\n",
       "      <th>std</th>\n",
       "      <td>5.541618e-01</td>\n",
       "      <td>5.013964e+00</td>\n",
       "      <td>1.775412e+01</td>\n",
       "      <td>5.016609e+00</td>\n",
       "      <td>1.765971e+01</td>\n",
       "      <td>1.592556e+00</td>\n",
       "      <td>1.697225e+04</td>\n",
       "      <td>1.845258e+01</td>\n",
       "      <td>2.219542e+01</td>\n",
       "      <td>2.287854e+01</td>\n",
       "      <td>9.094133e-01</td>\n",
       "      <td>2.837271e+00</td>\n",
       "      <td>5.431171e+00</td>\n",
       "      <td>1.540812e-01</td>\n",
       "    </tr>\n",
       "    <tr>\n",
       "      <th>min</th>\n",
       "      <td>1.000000e+00</td>\n",
       "      <td>2.455527e+01</td>\n",
       "      <td>-1.246238e+02</td>\n",
       "      <td>2.455527e+01</td>\n",
       "      <td>-1.246238e+02</td>\n",
       "      <td>0.000000e+00</td>\n",
       "      <td>0.000000e+00</td>\n",
       "      <td>-8.900000e+01</td>\n",
       "      <td>-8.900000e+01</td>\n",
       "      <td>1.000000e+00</td>\n",
       "      <td>0.000000e+00</td>\n",
       "      <td>0.000000e+00</td>\n",
       "      <td>0.000000e+00</td>\n",
       "      <td>0.000000e+00</td>\n",
       "    </tr>\n",
       "    <tr>\n",
       "      <th>25%</th>\n",
       "      <td>2.000000e+00</td>\n",
       "      <td>3.366453e+01</td>\n",
       "      <td>-1.178232e+02</td>\n",
       "      <td>3.364659e+01</td>\n",
       "      <td>-1.177020e+02</td>\n",
       "      <td>0.000000e+00</td>\n",
       "      <td>9.650000e+02</td>\n",
       "      <td>4.890000e+01</td>\n",
       "      <td>3.900000e+01</td>\n",
       "      <td>4.900000e+01</td>\n",
       "      <td>2.959000e+01</td>\n",
       "      <td>1.000000e+01</td>\n",
       "      <td>4.600000e+00</td>\n",
       "      <td>0.000000e+00</td>\n",
       "    </tr>\n",
       "    <tr>\n",
       "      <th>50%</th>\n",
       "      <td>2.000000e+00</td>\n",
       "      <td>3.609977e+01</td>\n",
       "      <td>-9.116690e+01</td>\n",
       "      <td>3.605898e+01</td>\n",
       "      <td>-9.105163e+01</td>\n",
       "      <td>0.000000e+00</td>\n",
       "      <td>3.093000e+03</td>\n",
       "      <td>6.300000e+01</td>\n",
       "      <td>5.800000e+01</td>\n",
       "      <td>6.800000e+01</td>\n",
       "      <td>2.992000e+01</td>\n",
       "      <td>1.000000e+01</td>\n",
       "      <td>7.000000e+00</td>\n",
       "      <td>0.000000e+00</td>\n",
       "    </tr>\n",
       "    <tr>\n",
       "      <th>75%</th>\n",
       "      <td>3.000000e+00</td>\n",
       "      <td>4.037505e+01</td>\n",
       "      <td>-8.085814e+01</td>\n",
       "      <td>4.033133e+01</td>\n",
       "      <td>-8.084679e+01</td>\n",
       "      <td>2.790000e-01</td>\n",
       "      <td>7.976000e+03</td>\n",
       "      <td>7.500000e+01</td>\n",
       "      <td>7.200000e+01</td>\n",
       "      <td>8.500000e+01</td>\n",
       "      <td>3.007000e+01</td>\n",
       "      <td>1.000000e+01</td>\n",
       "      <td>1.040000e+01</td>\n",
       "      <td>0.000000e+00</td>\n",
       "    </tr>\n",
       "    <tr>\n",
       "      <th>max</th>\n",
       "      <td>4.000000e+00</td>\n",
       "      <td>4.900220e+01</td>\n",
       "      <td>-6.711317e+01</td>\n",
       "      <td>4.907500e+01</td>\n",
       "      <td>-6.710924e+01</td>\n",
       "      <td>3.336300e+02</td>\n",
       "      <td>9.999997e+06</td>\n",
       "      <td>2.030000e+02</td>\n",
       "      <td>1.740000e+02</td>\n",
       "      <td>1.000000e+02</td>\n",
       "      <td>5.804000e+01</td>\n",
       "      <td>1.400000e+02</td>\n",
       "      <td>9.840000e+02</td>\n",
       "      <td>2.400000e+01</td>\n",
       "    </tr>\n",
       "  </tbody>\n",
       "</table>\n",
       "</div>"
      ],
      "text/plain": [
       "           Severity     Start_Lat     Start_Lng       End_Lat       End_Lng  \\\n",
       "count  2.906610e+06  2.906610e+06  2.906610e+06  2.623789e+06  2.623789e+06   \n",
       "mean   2.288649e+00  3.653027e+01 -9.642676e+01  3.651733e+01 -9.620367e+01   \n",
       "std    5.541618e-01  5.013964e+00  1.775412e+01  5.016609e+00  1.765971e+01   \n",
       "min    1.000000e+00  2.455527e+01 -1.246238e+02  2.455527e+01 -1.246238e+02   \n",
       "25%    2.000000e+00  3.366453e+01 -1.178232e+02  3.364659e+01 -1.177020e+02   \n",
       "50%    2.000000e+00  3.609977e+01 -9.116690e+01  3.605898e+01 -9.105163e+01   \n",
       "75%    3.000000e+00  4.037505e+01 -8.085814e+01  4.033133e+01 -8.084679e+01   \n",
       "max    4.000000e+00  4.900220e+01 -6.711317e+01  4.907500e+01 -6.710924e+01   \n",
       "\n",
       "       Distance(mi)        Number  Temperature(F)  Wind_Chill(F)  \\\n",
       "count  2.906610e+06  1.014938e+06    2.839386e+06   1.722751e+06   \n",
       "mean   3.980541e-01  6.789728e+03    6.098873e+01   5.499048e+01   \n",
       "std    1.592556e+00  1.697225e+04    1.845258e+01   2.219542e+01   \n",
       "min    0.000000e+00  0.000000e+00   -8.900000e+01  -8.900000e+01   \n",
       "25%    0.000000e+00  9.650000e+02    4.890000e+01   3.900000e+01   \n",
       "50%    0.000000e+00  3.093000e+03    6.300000e+01   5.800000e+01   \n",
       "75%    2.790000e-01  7.976000e+03    7.500000e+01   7.200000e+01   \n",
       "max    3.336300e+02  9.999997e+06    2.030000e+02   1.740000e+02   \n",
       "\n",
       "        Humidity(%)  Pressure(in)  Visibility(mi)  Wind_Speed(mph)  \\\n",
       "count  2.835340e+06  2.849702e+06    2.834532e+06     2.599447e+06   \n",
       "mean   6.537758e+01  2.965685e+01    9.116766e+00     7.818111e+00   \n",
       "std    2.287854e+01  9.094133e-01    2.837271e+00     5.431171e+00   \n",
       "min    1.000000e+00  0.000000e+00    0.000000e+00     0.000000e+00   \n",
       "25%    4.900000e+01  2.959000e+01    1.000000e+01     4.600000e+00   \n",
       "50%    6.800000e+01  2.992000e+01    1.000000e+01     7.000000e+00   \n",
       "75%    8.500000e+01  3.007000e+01    1.000000e+01     1.040000e+01   \n",
       "max    1.000000e+02  5.804000e+01    1.400000e+02     9.840000e+02   \n",
       "\n",
       "       Precipitation(in)  \n",
       "count       1.605284e+06  \n",
       "mean        1.119459e-02  \n",
       "std         1.540812e-01  \n",
       "min         0.000000e+00  \n",
       "25%         0.000000e+00  \n",
       "50%         0.000000e+00  \n",
       "75%         0.000000e+00  \n",
       "max         2.400000e+01  "
      ]
     },
     "execution_count": 5,
     "metadata": {},
     "output_type": "execute_result"
    }
   ],
   "source": [
    "df.describe()\n",
    "\n",
    "### to get to know the (mean, min, std etc) of numerica; data"
   ]
  },
  {
   "cell_type": "markdown",
   "id": "494473d4",
   "metadata": {},
   "source": [
    "### to select the numerical data"
   ]
  },
  {
   "cell_type": "code",
   "execution_count": 6,
   "id": "8a0d4854",
   "metadata": {},
   "outputs": [
    {
     "data": {
      "text/plain": [
       "ID                        object\n",
       "Severity                   int64\n",
       "Start_Time                object\n",
       "End_Time                  object\n",
       "Start_Lat                float64\n",
       "Start_Lng                float64\n",
       "End_Lat                  float64\n",
       "End_Lng                  float64\n",
       "Distance(mi)             float64\n",
       "Description               object\n",
       "Number                   float64\n",
       "Street                    object\n",
       "Side                      object\n",
       "City                      object\n",
       "County                    object\n",
       "State                     object\n",
       "Zipcode                   object\n",
       "Country                   object\n",
       "Timezone                  object\n",
       "Airport_Code              object\n",
       "Weather_Timestamp         object\n",
       "Temperature(F)           float64\n",
       "Wind_Chill(F)            float64\n",
       "Humidity(%)              float64\n",
       "Pressure(in)             float64\n",
       "Visibility(mi)           float64\n",
       "Wind_Direction            object\n",
       "Wind_Speed(mph)          float64\n",
       "Precipitation(in)        float64\n",
       "Weather_Condition         object\n",
       "Amenity                     bool\n",
       "Bump                        bool\n",
       "Crossing                    bool\n",
       "Give_Way                    bool\n",
       "Junction                    bool\n",
       "No_Exit                     bool\n",
       "Railway                     bool\n",
       "Roundabout                  bool\n",
       "Station                     bool\n",
       "Stop                        bool\n",
       "Traffic_Calming             bool\n",
       "Traffic_Signal              bool\n",
       "Turning_Loop                bool\n",
       "Sunrise_Sunset            object\n",
       "Civil_Twilight            object\n",
       "Nautical_Twilight         object\n",
       "Astronomical_Twilight     object\n",
       "dtype: object"
      ]
     },
     "execution_count": 6,
     "metadata": {},
     "output_type": "execute_result"
    }
   ],
   "source": [
    "### to know the datatype of all the columns\n",
    "df.dtypes"
   ]
  },
  {
   "cell_type": "code",
   "execution_count": 7,
   "id": "4c0c61cb",
   "metadata": {},
   "outputs": [
    {
     "data": {
      "text/plain": [
       "14"
      ]
     },
     "execution_count": 7,
     "metadata": {},
     "output_type": "execute_result"
    }
   ],
   "source": [
    "### selecting only the numerical data here\n",
    "\n",
    "numerical=['int64','float64']\n",
    "numeric_df= df.select_dtypes(include=numerical)\n",
    "len(numeric_df.columns)"
   ]
  },
  {
   "cell_type": "code",
   "execution_count": 8,
   "id": "d2855196",
   "metadata": {},
   "outputs": [
    {
     "data": {
      "text/html": [
       "<div>\n",
       "<style scoped>\n",
       "    .dataframe tbody tr th:only-of-type {\n",
       "        vertical-align: middle;\n",
       "    }\n",
       "\n",
       "    .dataframe tbody tr th {\n",
       "        vertical-align: top;\n",
       "    }\n",
       "\n",
       "    .dataframe thead th {\n",
       "        text-align: right;\n",
       "    }\n",
       "</style>\n",
       "<table border=\"1\" class=\"dataframe\">\n",
       "  <thead>\n",
       "    <tr style=\"text-align: right;\">\n",
       "      <th></th>\n",
       "      <th>ID</th>\n",
       "      <th>Severity</th>\n",
       "      <th>Start_Time</th>\n",
       "      <th>End_Time</th>\n",
       "      <th>Start_Lat</th>\n",
       "      <th>Start_Lng</th>\n",
       "      <th>End_Lat</th>\n",
       "      <th>End_Lng</th>\n",
       "      <th>Distance(mi)</th>\n",
       "      <th>Description</th>\n",
       "      <th>...</th>\n",
       "      <th>Roundabout</th>\n",
       "      <th>Station</th>\n",
       "      <th>Stop</th>\n",
       "      <th>Traffic_Calming</th>\n",
       "      <th>Traffic_Signal</th>\n",
       "      <th>Turning_Loop</th>\n",
       "      <th>Sunrise_Sunset</th>\n",
       "      <th>Civil_Twilight</th>\n",
       "      <th>Nautical_Twilight</th>\n",
       "      <th>Astronomical_Twilight</th>\n",
       "    </tr>\n",
       "  </thead>\n",
       "  <tbody>\n",
       "    <tr>\n",
       "      <th>0</th>\n",
       "      <td>False</td>\n",
       "      <td>False</td>\n",
       "      <td>False</td>\n",
       "      <td>False</td>\n",
       "      <td>False</td>\n",
       "      <td>False</td>\n",
       "      <td>False</td>\n",
       "      <td>False</td>\n",
       "      <td>False</td>\n",
       "      <td>False</td>\n",
       "      <td>...</td>\n",
       "      <td>False</td>\n",
       "      <td>False</td>\n",
       "      <td>False</td>\n",
       "      <td>False</td>\n",
       "      <td>False</td>\n",
       "      <td>False</td>\n",
       "      <td>False</td>\n",
       "      <td>False</td>\n",
       "      <td>False</td>\n",
       "      <td>False</td>\n",
       "    </tr>\n",
       "    <tr>\n",
       "      <th>1</th>\n",
       "      <td>False</td>\n",
       "      <td>False</td>\n",
       "      <td>False</td>\n",
       "      <td>False</td>\n",
       "      <td>False</td>\n",
       "      <td>False</td>\n",
       "      <td>False</td>\n",
       "      <td>False</td>\n",
       "      <td>False</td>\n",
       "      <td>False</td>\n",
       "      <td>...</td>\n",
       "      <td>False</td>\n",
       "      <td>False</td>\n",
       "      <td>False</td>\n",
       "      <td>False</td>\n",
       "      <td>False</td>\n",
       "      <td>False</td>\n",
       "      <td>False</td>\n",
       "      <td>False</td>\n",
       "      <td>False</td>\n",
       "      <td>False</td>\n",
       "    </tr>\n",
       "    <tr>\n",
       "      <th>2</th>\n",
       "      <td>False</td>\n",
       "      <td>False</td>\n",
       "      <td>False</td>\n",
       "      <td>False</td>\n",
       "      <td>False</td>\n",
       "      <td>False</td>\n",
       "      <td>False</td>\n",
       "      <td>False</td>\n",
       "      <td>False</td>\n",
       "      <td>False</td>\n",
       "      <td>...</td>\n",
       "      <td>False</td>\n",
       "      <td>False</td>\n",
       "      <td>False</td>\n",
       "      <td>False</td>\n",
       "      <td>False</td>\n",
       "      <td>False</td>\n",
       "      <td>False</td>\n",
       "      <td>False</td>\n",
       "      <td>False</td>\n",
       "      <td>False</td>\n",
       "    </tr>\n",
       "    <tr>\n",
       "      <th>3</th>\n",
       "      <td>False</td>\n",
       "      <td>False</td>\n",
       "      <td>False</td>\n",
       "      <td>False</td>\n",
       "      <td>False</td>\n",
       "      <td>False</td>\n",
       "      <td>False</td>\n",
       "      <td>False</td>\n",
       "      <td>False</td>\n",
       "      <td>False</td>\n",
       "      <td>...</td>\n",
       "      <td>False</td>\n",
       "      <td>False</td>\n",
       "      <td>False</td>\n",
       "      <td>False</td>\n",
       "      <td>False</td>\n",
       "      <td>False</td>\n",
       "      <td>False</td>\n",
       "      <td>False</td>\n",
       "      <td>False</td>\n",
       "      <td>False</td>\n",
       "    </tr>\n",
       "    <tr>\n",
       "      <th>4</th>\n",
       "      <td>False</td>\n",
       "      <td>False</td>\n",
       "      <td>False</td>\n",
       "      <td>False</td>\n",
       "      <td>False</td>\n",
       "      <td>False</td>\n",
       "      <td>False</td>\n",
       "      <td>False</td>\n",
       "      <td>False</td>\n",
       "      <td>False</td>\n",
       "      <td>...</td>\n",
       "      <td>False</td>\n",
       "      <td>False</td>\n",
       "      <td>False</td>\n",
       "      <td>False</td>\n",
       "      <td>False</td>\n",
       "      <td>False</td>\n",
       "      <td>False</td>\n",
       "      <td>False</td>\n",
       "      <td>False</td>\n",
       "      <td>False</td>\n",
       "    </tr>\n",
       "    <tr>\n",
       "      <th>...</th>\n",
       "      <td>...</td>\n",
       "      <td>...</td>\n",
       "      <td>...</td>\n",
       "      <td>...</td>\n",
       "      <td>...</td>\n",
       "      <td>...</td>\n",
       "      <td>...</td>\n",
       "      <td>...</td>\n",
       "      <td>...</td>\n",
       "      <td>...</td>\n",
       "      <td>...</td>\n",
       "      <td>...</td>\n",
       "      <td>...</td>\n",
       "      <td>...</td>\n",
       "      <td>...</td>\n",
       "      <td>...</td>\n",
       "      <td>...</td>\n",
       "      <td>...</td>\n",
       "      <td>...</td>\n",
       "      <td>...</td>\n",
       "      <td>...</td>\n",
       "    </tr>\n",
       "    <tr>\n",
       "      <th>2906605</th>\n",
       "      <td>False</td>\n",
       "      <td>False</td>\n",
       "      <td>False</td>\n",
       "      <td>False</td>\n",
       "      <td>False</td>\n",
       "      <td>False</td>\n",
       "      <td>False</td>\n",
       "      <td>False</td>\n",
       "      <td>False</td>\n",
       "      <td>False</td>\n",
       "      <td>...</td>\n",
       "      <td>False</td>\n",
       "      <td>False</td>\n",
       "      <td>False</td>\n",
       "      <td>False</td>\n",
       "      <td>False</td>\n",
       "      <td>False</td>\n",
       "      <td>False</td>\n",
       "      <td>False</td>\n",
       "      <td>False</td>\n",
       "      <td>False</td>\n",
       "    </tr>\n",
       "    <tr>\n",
       "      <th>2906606</th>\n",
       "      <td>False</td>\n",
       "      <td>False</td>\n",
       "      <td>False</td>\n",
       "      <td>False</td>\n",
       "      <td>False</td>\n",
       "      <td>False</td>\n",
       "      <td>False</td>\n",
       "      <td>False</td>\n",
       "      <td>False</td>\n",
       "      <td>False</td>\n",
       "      <td>...</td>\n",
       "      <td>False</td>\n",
       "      <td>False</td>\n",
       "      <td>False</td>\n",
       "      <td>False</td>\n",
       "      <td>False</td>\n",
       "      <td>False</td>\n",
       "      <td>False</td>\n",
       "      <td>False</td>\n",
       "      <td>False</td>\n",
       "      <td>False</td>\n",
       "    </tr>\n",
       "    <tr>\n",
       "      <th>2906607</th>\n",
       "      <td>False</td>\n",
       "      <td>False</td>\n",
       "      <td>False</td>\n",
       "      <td>False</td>\n",
       "      <td>False</td>\n",
       "      <td>False</td>\n",
       "      <td>False</td>\n",
       "      <td>False</td>\n",
       "      <td>False</td>\n",
       "      <td>False</td>\n",
       "      <td>...</td>\n",
       "      <td>False</td>\n",
       "      <td>False</td>\n",
       "      <td>False</td>\n",
       "      <td>False</td>\n",
       "      <td>False</td>\n",
       "      <td>False</td>\n",
       "      <td>False</td>\n",
       "      <td>False</td>\n",
       "      <td>False</td>\n",
       "      <td>False</td>\n",
       "    </tr>\n",
       "    <tr>\n",
       "      <th>2906608</th>\n",
       "      <td>False</td>\n",
       "      <td>False</td>\n",
       "      <td>False</td>\n",
       "      <td>False</td>\n",
       "      <td>False</td>\n",
       "      <td>False</td>\n",
       "      <td>False</td>\n",
       "      <td>False</td>\n",
       "      <td>False</td>\n",
       "      <td>False</td>\n",
       "      <td>...</td>\n",
       "      <td>False</td>\n",
       "      <td>False</td>\n",
       "      <td>False</td>\n",
       "      <td>False</td>\n",
       "      <td>False</td>\n",
       "      <td>False</td>\n",
       "      <td>False</td>\n",
       "      <td>False</td>\n",
       "      <td>False</td>\n",
       "      <td>False</td>\n",
       "    </tr>\n",
       "    <tr>\n",
       "      <th>2906609</th>\n",
       "      <td>False</td>\n",
       "      <td>False</td>\n",
       "      <td>False</td>\n",
       "      <td>False</td>\n",
       "      <td>False</td>\n",
       "      <td>False</td>\n",
       "      <td>False</td>\n",
       "      <td>False</td>\n",
       "      <td>False</td>\n",
       "      <td>False</td>\n",
       "      <td>...</td>\n",
       "      <td>False</td>\n",
       "      <td>False</td>\n",
       "      <td>False</td>\n",
       "      <td>False</td>\n",
       "      <td>False</td>\n",
       "      <td>False</td>\n",
       "      <td>False</td>\n",
       "      <td>False</td>\n",
       "      <td>False</td>\n",
       "      <td>False</td>\n",
       "    </tr>\n",
       "  </tbody>\n",
       "</table>\n",
       "<p>2906610 rows × 47 columns</p>\n",
       "</div>"
      ],
      "text/plain": [
       "            ID  Severity  Start_Time  End_Time  Start_Lat  Start_Lng  End_Lat  \\\n",
       "0        False     False       False     False      False      False    False   \n",
       "1        False     False       False     False      False      False    False   \n",
       "2        False     False       False     False      False      False    False   \n",
       "3        False     False       False     False      False      False    False   \n",
       "4        False     False       False     False      False      False    False   \n",
       "...        ...       ...         ...       ...        ...        ...      ...   \n",
       "2906605  False     False       False     False      False      False    False   \n",
       "2906606  False     False       False     False      False      False    False   \n",
       "2906607  False     False       False     False      False      False    False   \n",
       "2906608  False     False       False     False      False      False    False   \n",
       "2906609  False     False       False     False      False      False    False   \n",
       "\n",
       "         End_Lng  Distance(mi)  Description  ...  Roundabout  Station   Stop  \\\n",
       "0          False         False        False  ...       False    False  False   \n",
       "1          False         False        False  ...       False    False  False   \n",
       "2          False         False        False  ...       False    False  False   \n",
       "3          False         False        False  ...       False    False  False   \n",
       "4          False         False        False  ...       False    False  False   \n",
       "...          ...           ...          ...  ...         ...      ...    ...   \n",
       "2906605    False         False        False  ...       False    False  False   \n",
       "2906606    False         False        False  ...       False    False  False   \n",
       "2906607    False         False        False  ...       False    False  False   \n",
       "2906608    False         False        False  ...       False    False  False   \n",
       "2906609    False         False        False  ...       False    False  False   \n",
       "\n",
       "         Traffic_Calming  Traffic_Signal  Turning_Loop  Sunrise_Sunset  \\\n",
       "0                  False           False         False           False   \n",
       "1                  False           False         False           False   \n",
       "2                  False           False         False           False   \n",
       "3                  False           False         False           False   \n",
       "4                  False           False         False           False   \n",
       "...                  ...             ...           ...             ...   \n",
       "2906605            False           False         False           False   \n",
       "2906606            False           False         False           False   \n",
       "2906607            False           False         False           False   \n",
       "2906608            False           False         False           False   \n",
       "2906609            False           False         False           False   \n",
       "\n",
       "         Civil_Twilight  Nautical_Twilight  Astronomical_Twilight  \n",
       "0                 False              False                  False  \n",
       "1                 False              False                  False  \n",
       "2                 False              False                  False  \n",
       "3                 False              False                  False  \n",
       "4                 False              False                  False  \n",
       "...                 ...                ...                    ...  \n",
       "2906605           False              False                  False  \n",
       "2906606           False              False                  False  \n",
       "2906607           False              False                  False  \n",
       "2906608           False              False                  False  \n",
       "2906609           False              False                  False  \n",
       "\n",
       "[2906610 rows x 47 columns]"
      ]
     },
     "execution_count": 8,
     "metadata": {},
     "output_type": "execute_result"
    }
   ],
   "source": [
    "df.isna() \n",
    "### replaces all the null values with true or false\n"
   ]
  },
  {
   "cell_type": "code",
   "execution_count": 9,
   "id": "b4d59d6e",
   "metadata": {},
   "outputs": [
    {
     "data": {
      "text/plain": [
       "Number                   1891672\n",
       "Precipitation(in)        1301326\n",
       "Wind_Chill(F)            1183859\n",
       "Wind_Speed(mph)           307163\n",
       "End_Lat                   282821\n",
       "End_Lng                   282821\n",
       "Visibility(mi)             72078\n",
       "Weather_Condition          71851\n",
       "Humidity(%)                71270\n",
       "Temperature(F)             67224\n",
       "Wind_Direction             63474\n",
       "Pressure(in)               56908\n",
       "Weather_Timestamp          46917\n",
       "Airport_Code                6608\n",
       "Timezone                    3430\n",
       "Zipcode                     1114\n",
       "Sunrise_Sunset               110\n",
       "Civil_Twilight               110\n",
       "Nautical_Twilight            110\n",
       "Astronomical_Twilight        110\n",
       "City                         108\n",
       "Country                        0\n",
       "Junction                       0\n",
       "Start_Time                     0\n",
       "End_Time                       0\n",
       "Start_Lat                      0\n",
       "Turning_Loop                   0\n",
       "Traffic_Signal                 0\n",
       "Traffic_Calming                0\n",
       "Stop                           0\n",
       "Station                        0\n",
       "Roundabout                     0\n",
       "Railway                        0\n",
       "No_Exit                        0\n",
       "Give_Way                       0\n",
       "State                          0\n",
       "Crossing                       0\n",
       "Bump                           0\n",
       "Amenity                        0\n",
       "Start_Lng                      0\n",
       "Distance(mi)                   0\n",
       "Description                    0\n",
       "Street                         0\n",
       "Side                           0\n",
       "Severity                       0\n",
       "County                         0\n",
       "ID                             0\n",
       "dtype: int64"
      ]
     },
     "execution_count": 9,
     "metadata": {},
     "output_type": "execute_result"
    }
   ],
   "source": [
    "missing_values=df.isna().sum().sort_values(ascending=False)\n",
    "missing_values\n",
    "### to get the count of all the null values"
   ]
  },
  {
   "cell_type": "code",
   "execution_count": 10,
   "id": "ad0b4714",
   "metadata": {},
   "outputs": [
    {
     "data": {
      "text/plain": [
       "Number                   65.081728\n",
       "Precipitation(in)        44.771263\n",
       "Wind_Chill(F)            40.729888\n",
       "Wind_Speed(mph)          10.567740\n",
       "End_Lat                   9.730270\n",
       "End_Lng                   9.730270\n",
       "Visibility(mi)            2.479796\n",
       "Weather_Condition         2.471986\n",
       "Humidity(%)               2.451997\n",
       "Temperature(F)            2.312797\n",
       "Wind_Direction            2.183781\n",
       "Pressure(in)              1.957882\n",
       "Weather_Timestamp         1.614148\n",
       "Airport_Code              0.227344\n",
       "Timezone                  0.118007\n",
       "Zipcode                   0.038326\n",
       "Sunrise_Sunset            0.003784\n",
       "Civil_Twilight            0.003784\n",
       "Nautical_Twilight         0.003784\n",
       "Astronomical_Twilight     0.003784\n",
       "City                      0.003716\n",
       "Country                   0.000000\n",
       "Junction                  0.000000\n",
       "Start_Time                0.000000\n",
       "End_Time                  0.000000\n",
       "Start_Lat                 0.000000\n",
       "Turning_Loop              0.000000\n",
       "Traffic_Signal            0.000000\n",
       "Traffic_Calming           0.000000\n",
       "Stop                      0.000000\n",
       "Station                   0.000000\n",
       "Roundabout                0.000000\n",
       "Railway                   0.000000\n",
       "No_Exit                   0.000000\n",
       "Give_Way                  0.000000\n",
       "State                     0.000000\n",
       "Crossing                  0.000000\n",
       "Bump                      0.000000\n",
       "Amenity                   0.000000\n",
       "Start_Lng                 0.000000\n",
       "Distance(mi)              0.000000\n",
       "Description               0.000000\n",
       "Street                    0.000000\n",
       "Side                      0.000000\n",
       "Severity                  0.000000\n",
       "County                    0.000000\n",
       "ID                        0.000000\n",
       "dtype: float64"
      ]
     },
     "execution_count": 10,
     "metadata": {},
     "output_type": "execute_result"
    }
   ],
   "source": [
    "### to get the percemtage of null values\n",
    "\n",
    "missing_percentages= (missing_values/len(df)*100)\n",
    "missing_percentages"
   ]
  },
  {
   "cell_type": "code",
   "execution_count": 11,
   "id": "04e96581",
   "metadata": {},
   "outputs": [
    {
     "data": {
      "text/plain": [
       "<AxesSubplot:>"
      ]
     },
     "execution_count": 11,
     "metadata": {},
     "output_type": "execute_result"
    },
    {
     "data": {
      "image/png": "[encoded data removed]",
      "text/plain": [
       "<Figure size 432x288 with 1 Axes>"
      ]
     },
     "metadata": {
      "needs_background": "light"
     },
     "output_type": "display_data"
    }
   ],
   "source": [
    "only_missing_percentages= missing_percentages[missing_percentages>0]\n",
    "only_missing_percentages.plot(kind=\"barh\")\n",
    "\n",
    "#### removing all the zero missing percentages values"
   ]
  },
  {
   "cell_type": "code",
   "execution_count": 12,
   "id": "3f51bdd6",
   "metadata": {},
   "outputs": [
    {
     "data": {
      "text/plain": [
       "11790"
      ]
     },
     "execution_count": 12,
     "metadata": {},
     "output_type": "execute_result"
    }
   ],
   "source": [
    "### to get the number of unique cities\n",
    "cities=df.City.unique()\n",
    "len(cities)"
   ]
  },
  {
   "cell_type": "code",
   "execution_count": 13,
   "id": "a1b00a53",
   "metadata": {},
   "outputs": [
    {
     "data": {
      "text/plain": [
       "Los Angeles        68411\n",
       "Houston            68265\n",
       "Charlotte          56176\n",
       "Miami              49965\n",
       "Dallas             48525\n",
       "Austin             38808\n",
       "Raleigh            31355\n",
       "Atlanta            29244\n",
       "Sacramento         28984\n",
       "Orlando            28092\n",
       "Nashville          25277\n",
       "Baton Rouge        25080\n",
       "Minneapolis        22469\n",
       "San Diego          22329\n",
       "Phoenix            21370\n",
       "Oklahoma City      21292\n",
       "Portland           19432\n",
       "Richmond           18343\n",
       "Seattle            17384\n",
       "Saint Paul         17266\n",
       "San Jose           16744\n",
       "Chicago            16571\n",
       "Jacksonville       16210\n",
       "San Antonio        15751\n",
       "Denver             14272\n",
       "Indianapolis       13671\n",
       "Tucson             13526\n",
       "Columbia           13326\n",
       "Greenville         12925\n",
       "Riverside          12359\n",
       "Oakland            12170\n",
       "Tampa              11758\n",
       "Rochester          11715\n",
       "Detroit            10909\n",
       "Fort Lauderdale    10764\n",
       "Kansas City        10636\n",
       "Omaha              10568\n",
       "Salt Lake City     10532\n",
       "Dayton             10236\n",
       "Bronx               9962\n",
       "Long Beach          9890\n",
       "Tulsa               9771\n",
       "San Bernardino      9669\n",
       "Anaheim             9577\n",
       "Corona              9291\n",
       "Columbus            9269\n",
       "Grand Rapids        9255\n",
       "Flint               8945\n",
       "Ontario             8598\n",
       "Louisville          8411\n",
       "Name: City, dtype: int64"
      ]
     },
     "execution_count": 13,
     "metadata": {},
     "output_type": "execute_result"
    }
   ],
   "source": [
    "### to check the number of accidents by cities\n",
    "\n",
    "cities_by_accident=df.City.value_counts()\n",
    "cities_by_accident[:50]"
   ]
  },
  {
   "cell_type": "code",
   "execution_count": 14,
   "id": "d88070fc",
   "metadata": {},
   "outputs": [
    {
     "data": {
      "text/plain": [
       "<AxesSubplot:>"
      ]
     },
     "execution_count": 14,
     "metadata": {},
     "output_type": "execute_result"
    },
    {
     "data": {
      "image/png": "[encoded data removed]",
      "text/plain": [
       "<Figure size 432x288 with 1 Axes>"
      ]
     },
     "metadata": {
      "needs_background": "light"
     },
     "output_type": "display_data"
    }
   ],
   "source": [
    "cities_by_accident[0:20].plot(kind=\"barh\")"
   ]
  },
  {
   "cell_type": "code",
   "execution_count": 56,
   "id": "75cda762",
   "metadata": {},
   "outputs": [],
   "source": [
    "### to check the number of highest and lowest accidents\n",
    "\n",
    "high_accident_cities=cities_by_accident[cities_by_accident>=5000]\n",
    "low_accident_cities=cities_by_accident[cities_by_accident<=500 ]\n",
    "min_accident=cities_by_accident[cities_by_accident<5 ]"
   ]
  },
  {
   "cell_type": "code",
   "execution_count": 48,
   "id": "1afc4d38",
   "metadata": {},
   "outputs": [
    {
     "data": {
      "text/plain": [
       "77"
      ]
     },
     "execution_count": 48,
     "metadata": {},
     "output_type": "execute_result"
    }
   ],
   "source": [
    "len(high_accident_cities)"
   ]
  },
  {
   "cell_type": "code",
   "execution_count": 57,
   "id": "f063b0ce",
   "metadata": {},
   "outputs": [
    {
     "data": {
      "text/plain": [
       "10840"
      ]
     },
     "execution_count": 57,
     "metadata": {},
     "output_type": "execute_result"
    }
   ],
   "source": [
    "len(low_accident_cities)"
   ]
  },
  {
   "cell_type": "code",
   "execution_count": 54,
   "id": "6bcf9454",
   "metadata": {},
   "outputs": [
    {
     "data": {
      "text/plain": [
       "3283"
      ]
     },
     "execution_count": 54,
     "metadata": {},
     "output_type": "execute_result"
    }
   ],
   "source": [
    "len(min_accident)"
   ]
  },
  {
   "cell_type": "code",
   "execution_count": 18,
   "id": "29be137b",
   "metadata": {},
   "outputs": [
    {
     "data": {
      "text/plain": [
       "0         2019-05-21 08:29:55\n",
       "1         2019-10-07 17:43:09\n",
       "2         2020-12-13 21:53:00\n",
       "3         2018-04-17 16:51:23\n",
       "4         2016-08-31 17:40:49\n",
       "                  ...        \n",
       "2906605   2018-06-28 08:49:01\n",
       "2906606   2019-01-10 02:01:01\n",
       "2906607   2020-11-23 12:52:00\n",
       "2906608   2019-12-29 22:38:00\n",
       "2906609   2018-03-26 13:35:03\n",
       "Name: Start_Time, Length: 2906610, dtype: datetime64[ns]"
      ]
     },
     "execution_count": 18,
     "metadata": {},
     "output_type": "execute_result"
    }
   ],
   "source": [
    "### now lets see when are accidents are accuring ( during day/night)\n",
    "\n",
    "pd.to_datetime(df.Start_Time)"
   ]
  },
  {
   "cell_type": "code",
   "execution_count": 19,
   "id": "e62591cc",
   "metadata": {},
   "outputs": [
    {
     "name": "stderr",
     "output_type": "stream",
     "text": [
      "C:\\Users\\win10\\anaconda3\\lib\\site-packages\\seaborn\\distributions.py:2557: FutureWarning: `distplot` is a deprecated function and will be removed in a future version. Please adapt your code to use either `displot` (a figure-level function with similar flexibility) or `histplot` (an axes-level function for histograms).\n",
      "  warnings.warn(msg, FutureWarning)\n"
     ]
    },
    {
     "data": {
      "text/plain": [
       "<AxesSubplot:xlabel='Start_Time'>"
      ]
     },
     "execution_count": 19,
     "metadata": {},
     "output_type": "execute_result"
    },
    {
     "data": {
      "image/png": "[encoded data removed]",
      "text/plain": [
       "<Figure size 432x288 with 1 Axes>"
      ]
     },
     "metadata": {
      "needs_background": "light"
     },
     "output_type": "display_data"
    }
   ],
   "source": [
    "#### lets see at what time most accident occur\n",
    "import seaborn as sns\n",
    "df.Start_Time=pd.to_datetime(df.Start_Time)\n",
    "sns.distplot(df.Start_Time.dt.hour, bins=24, kde=False, norm_hist=True)"
   ]
  },
  {
   "cell_type": "code",
   "execution_count": 21,
   "id": "3a97fa5e",
   "metadata": {},
   "outputs": [
    {
     "data": {
      "text/plain": [
       "<AxesSubplot:xlabel='Start_Time'>"
      ]
     },
     "execution_count": 21,
     "metadata": {},
     "output_type": "execute_result"
    },
    {
     "data": {
      "image/png": "[encoded data removed]",
      "text/plain": [
       "<Figure size 432x288 with 1 Axes>"
      ]
     },
     "metadata": {
      "needs_background": "light"
     },
     "output_type": "display_data"
    }
   ],
   "source": [
    "### lets see when accidents occur most( which day/which month)\n",
    "## 0  is monday\n",
    "sns.distplot(df.Start_Time.dt.dayofweek, bins=7, kde=False, norm_hist=True)\n"
   ]
  },
  {
   "cell_type": "code",
   "execution_count": 23,
   "id": "bcf47069",
   "metadata": {},
   "outputs": [
    {
     "data": {
      "text/plain": [
       "<AxesSubplot:xlabel='Start_Time'>"
      ]
     },
     "execution_count": 23,
     "metadata": {},
     "output_type": "execute_result"
    },
    {
     "data": {
      "image/png": "[encoded data removed]",
      "text/plain": [
       "<Figure size 432x288 with 1 Axes>"
      ]
     },
     "metadata": {
      "needs_background": "light"
     },
     "output_type": "display_data"
    }
   ],
   "source": [
    "### looking for which month is with highest accidents.\n",
    "sns.distplot(df.Start_Time.dt.month, bins=12, kde=False, norm_hist=True)"
   ]
  },
  {
   "cell_type": "code",
   "execution_count": 45,
   "id": "51772e56",
   "metadata": {},
   "outputs": [
    {
     "name": "stderr",
     "output_type": "stream",
     "text": [
      "C:\\Users\\win10\\anaconda3\\lib\\site-packages\\seaborn\\distributions.py:2557: FutureWarning: `distplot` is a deprecated function and will be removed in a future version. Please adapt your code to use either `displot` (a figure-level function with similar flexibility) or `histplot` (an axes-level function for histograms).\n",
      "  warnings.warn(msg, FutureWarning)\n"
     ]
    },
    {
     "data": {
      "text/plain": [
       "<AxesSubplot:xlabel='Start_Time'>"
      ]
     },
     "execution_count": 45,
     "metadata": {},
     "output_type": "execute_result"
    },
    {
     "data": {
      "image/png": "[encoded data removed]",
      "text/plain": [
       "<Figure size 432x288 with 1 Axes>"
      ]
     },
     "metadata": {
      "needs_background": "light"
     },
     "output_type": "display_data"
    }
   ],
   "source": [
    "df_2020=df[df.Start_Time.dt.year==2020]\n",
    "sns.distplot(df_2020.Start_Time.dt.month, bins=12, kde=False, norm_hist=True)"
   ]
  },
  {
   "cell_type": "markdown",
   "id": "8fbcd74f",
   "metadata": {},
   "source": [
    "### Summary and Conclusion\n",
    "\n",
    "1. New York data is missing ( being most populated city data plays major role, that city data is         mising)\n",
    "    \n",
    "2. less than 2% of cities have more than 5000 yearly accidents\n",
    "    \n",
    "3. around 65% of cities have recorded around 500 accidents per year\n",
    "    \n",
    "4. around 30% of cities have recorded less than 5 accidents per year\n",
    "    \n",
    "5. according from data most accidents occur from 8-10 AM and 4-6 pm(may be while going/returning         from office)\n",
    "    \n",
    "6. most accidents are occured during Weekdays(mon-fri)\n",
    "    \n",
    "7. most accidents are occured in oct-dec ( may be because of winter )"
   ]
  },
  {
   "cell_type": "markdown",
   "id": "6d0bbdd7",
   "metadata": {},
   "source": [
    "### Areas for Future Work\n",
    "1. State wise analze can be done\n",
    "2. HeatMap of Accidents can be Generated\n",
    "3. We can also take population of city wise merge population data to this existing data. and can        analyze accidents city per capita\n",
    "\n"
   ]
  },
  {
   "cell_type": "code",
   "execution_count": null,
   "id": "47b4a82f",
   "metadata": {},
   "outputs": [],
   "source": []
  }
 ],
 "metadata": {
  "kernelspec": {
   "display_name": "Python 3",
   "language": "python",
   "name": "python3"
  },
  "language_info": {
   "codemirror_mode": {
    "name": "ipython",
    "version": 3
   },
   "file_extension": ".py",
   "mimetype": "text/x-python",
   "name": "python",
   "nbconvert_exporter": "python",
   "pygments_lexer": "ipython3",
   "version": "3.8.8"
  }
 },
 "nbformat": 4,
 "nbformat_minor": 5
}
